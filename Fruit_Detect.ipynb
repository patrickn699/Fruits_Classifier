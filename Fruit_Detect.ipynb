{
 "cells": [
  {
   "cell_type": "markdown",
   "metadata": {},
   "source": [
    "Importing Libraries"
   ]
  },
  {
   "cell_type": "code",
   "execution_count": 14,
   "metadata": {},
   "outputs": [],
   "source": [
    "import cv2\n",
    "import os\n",
    "import pickle\n",
    "import numpy as np\n"
   ]
  },
  {
   "cell_type": "code",
   "execution_count": 3,
   "metadata": {},
   "outputs": [],
   "source": [
    "%matplotlib inline\n",
    "import matplotlib.pyplot as plt"
   ]
  },
  {
   "cell_type": "code",
   "execution_count": null,
   "metadata": {},
   "outputs": [],
   "source": [
    "Getting the fruit label names."
   ]
  },
  {
   "cell_type": "code",
   "execution_count": 4,
   "metadata": {},
   "outputs": [],
   "source": [
    "label=[]\n",
    "lab = open('labels_1.txt','r')\n",
    "label=lab.readlines()\n",
    "lab.close()"
   ]
  },
  {
   "cell_type": "code",
   "execution_count": 5,
   "metadata": {},
   "outputs": [
    {
     "data": {
      "text/plain": [
       "[\"{(0, 'Apple Braeburn'), (1, 'Apple Crimson Snow'), (2, 'Apple Granny Smith'), (3, 'Apple Pink Lady'), (4, 'Apple Red 1'), (5, 'Apple Red 2'), (6, 'Apple Red 3'), (7, 'Apple Red Delicious'), (8, 'Apple Red Yellow 1'), (9, 'Apple Red Yellow 2'), (10, 'Banana'), (11, 'Banana Lady Finger'), (12, 'Banana Red'), (13, 'Blueberry'), (14, 'Cherry 1'), (15, 'Cherry 2'), (16, 'Cherry Rainier'), (17, 'Cherry Wax Black'), (18, 'Cherry Wax Red'), (19, 'Cherry Wax Yellow'), (20, 'Fig'), (21, 'Grape Blue'), (22, 'Grape Pink'), (23, 'Grape White'), (24, 'Grape White 2'), (25, 'Grape White 3'), (26, 'Grape White 4'), (27, 'Guava'), (28, 'Kiwi'), (29, 'Lychee'), (30, 'Mango'), (31, 'Mango Red'), (32, 'Mulberry'), (33, 'Orange'), (34, 'Papaya'), (35, 'Peach'), (36, 'Peach 2'), (37, 'Pear'), (38, 'Pear 2'), (39, 'Pear Forelle'), (40, 'Pear Monster'), (41, 'Pear Williams'), (42, 'Pineapple'), (43, 'Pineapple Mini'), (44, 'Pitahaya Red'), (45, 'Plum'), (46, 'Plum 2'), (47, 'Plum 3'), (48, 'Pomegranate'), (49, 'Raspberry'), (50, 'Strawberry'), (51, 'Strawberry Wedge'), (52, 'Watermelon')}\"]"
      ]
     },
     "execution_count": 5,
     "metadata": {},
     "output_type": "execute_result"
    }
   ],
   "source": [
    "label"
   ]
  },
  {
   "cell_type": "markdown",
   "metadata": {},
   "source": [
    "Loading the model"
   ]
  },
  {
   "cell_type": "code",
   "execution_count": 6,
   "metadata": {},
   "outputs": [
    {
     "name": "stderr",
     "output_type": "stream",
     "text": [
      "Using TensorFlow backend.\n"
     ]
    }
   ],
   "source": [
    "pik = open('ready_fr.p','rb')\n",
    "model = pickle.load(pik)"
   ]
  },
  {
   "cell_type": "markdown",
   "metadata": {},
   "source": [
    "Pre-processing the input image."
   ]
  },
  {
   "cell_type": "code",
   "execution_count": 7,
   "metadata": {},
   "outputs": [],
   "source": [
    "path=\"N:/fruits/fruits-360/Training/12/0_100.jpg\" #give any image path of your choice."
   ]
  },
  {
   "cell_type": "code",
   "execution_count": 8,
   "metadata": {},
   "outputs": [],
   "source": [
    "img = cv2.imread(path)\n",
    "img = cv2.resize(img,(28,28))\n",
    "img = cv2.cvtColor(img,cv2.COLOR_BGR2GRAY)\n",
    "img = cv2.equalizeHist(img)\n",
    "img = img/255"
   ]
  },
  {
   "cell_type": "markdown",
   "metadata": {},
   "source": [
    "Checking the image."
   ]
  },
  {
   "cell_type": "code",
   "execution_count": 9,
   "metadata": {},
   "outputs": [
    {
     "data": {
      "text/plain": [
       "<matplotlib.image.AxesImage at 0x2316e228348>"
      ]
     },
     "execution_count": 9,
     "metadata": {},
     "output_type": "execute_result"
    },
    {
     "data": {
      "image/png": "[encoded data removed]",
      "text/plain": [
       "<Figure size 288x288 with 1 Axes>"
      ]
     },
     "metadata": {
      "needs_background": "light"
     },
     "output_type": "display_data"
    }
   ],
   "source": [
    "plt.matshow(img)"
   ]
  },
  {
   "cell_type": "code",
   "execution_count": null,
   "metadata": {},
   "outputs": [],
   "source": [
    "Predicting the fruit category."
   ]
  },
  {
   "cell_type": "code",
   "execution_count": 10,
   "metadata": {},
   "outputs": [],
   "source": [
    "img = img.reshape(1,28,28,1)"
   ]
  },
  {
   "cell_type": "code",
   "execution_count": 50,
   "metadata": {},
   "outputs": [
    {
     "data": {
      "text/plain": [
       "(1, 28, 28, 1)"
      ]
     },
     "execution_count": 50,
     "metadata": {},
     "output_type": "execute_result"
    }
   ],
   "source": [
    "img.shape"
   ]
  },
  {
   "cell_type": "code",
   "execution_count": 12,
   "metadata": {},
   "outputs": [],
   "source": [
    "m=model.predict(img)"
   ]
  },
  {
   "cell_type": "code",
   "execution_count": 15,
   "metadata": {},
   "outputs": [
    {
     "data": {
      "text/plain": [
       "12"
      ]
     },
     "execution_count": 15,
     "metadata": {},
     "output_type": "execute_result"
    }
   ],
   "source": [
    "np.argmax(m)"
   ]
  },
  {
   "cell_type": "markdown",
   "metadata": {},
   "source": [
    "Please refer the label file and compare the out of the model."
   ]
  }
 ],
 "metadata": {
  "kernelspec": {
   "display_name": "Python 3",
   "language": "python",
   "name": "python3"
  },
  "language_info": {
   "codemirror_mode": {
    "name": "ipython",
    "version": 3
   },
   "file_extension": ".py",
   "mimetype": "text/x-python",
   "name": "python",
   "nbconvert_exporter": "python",
   "pygments_lexer": "ipython3",
   "version": "3.7.6"
  }
 },
 "nbformat": 4,
 "nbformat_minor": 4
}
