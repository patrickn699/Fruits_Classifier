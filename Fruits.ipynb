{
 "cells": [
  {
   "cell_type": "markdown",
   "metadata": {},
   "source": [
    "Importing Libraries"
   ]
  },
  {
   "cell_type": "code",
   "execution_count": 2,
   "metadata": {},
   "outputs": [
    {
     "name": "stderr",
     "output_type": "stream",
     "text": [
      "Using TensorFlow backend.\n"
     ]
    }
   ],
   "source": [
    "import numpy as np\n",
    "import cv2\n",
    "import pickle\n",
    "import os\n",
    "import pandas as pd\n",
    "from keras.models import Sequential\n",
    "from keras.layers import Convolution2D,MaxPooling2D,Dense,Dropout,Flatten\n",
    "from keras.preprocessing.image import ImageDataGenerator\n",
    "from keras.utils import to_categorical\n",
    "from sklearn.model_selection import train_test_split\n",
    "%matplotlib inline\n",
    "import matplotlib.pyplot as plt\n"
   ]
  },
  {
   "cell_type": "markdown",
   "metadata": {},
   "source": [
    "Importing Images."
   ]
  },
  {
   "cell_type": "markdown",
   "metadata": {},
   "source": [
    "Fetching Images"
   ]
  },
  {
   "cell_type": "code",
   "execution_count": 1,
   "metadata": {},
   "outputs": [],
   "source": [
    "path = \"N:/fruits/fruits-360/Training\""
   ]
  },
  {
   "cell_type": "code",
   "execution_count": 5,
   "metadata": {},
   "outputs": [
    {
     "name": "stdout",
     "output_type": "stream",
     "text": [
      "number of classes\n",
      "getting images:\n",
      "0 1 2 3 4 5 6 7 8 9 10 11 12 13 14 15 16 17 18 19 20 21 22 23 24 25 26 27 28 29 30 31 32 33 34 35 36 37 38 39 40 41 42 43 44 45 46 47 48 49 50 51 52  \n"
     ]
    }
   ],
   "source": [
    "images = []\n",
    "classno = []\n",
    "nos = len(os.listdir(path))\n",
    "count = 0\n",
    "\n",
    "print(\"number of classes\")\n",
    "print(\"getting images:\")\n",
    "\n",
    "for x in range(0,nos):\n",
    "    pictures = os.listdir(path+\"/\"+str(count))\n",
    "    for y in pictures:\n",
    "        current = cv2.imread(path+\"/\"+str(count)+\"/\"+y)\n",
    "        images.append(current)\n",
    "        classno.append(count)\n",
    "    print(count, end = \" \")\n",
    "    count+=1\n",
    "print(\" \")\n",
    "\n",
    "np_images = np.array(images)\n",
    "np_class = np.array(classno)"
   ]
  },
  {
   "cell_type": "markdown",
   "metadata": {},
   "source": [
    "Splitting data for training and testing."
   ]
  },
  {
   "cell_type": "code",
   "execution_count": 78,
   "metadata": {},
   "outputs": [],
   "source": [
    "x_train,x_test,y_train,y_test = train_test_split(np_images,np_class,test_size=0.2)\n",
    "x_train,x_valid,y_train,y_valid = train_test_split(x_train,y_train,test_size=0.2)"
   ]
  },
  {
   "cell_type": "markdown",
   "metadata": {},
   "source": [
    "Pre-process the image"
   ]
  },
  {
   "cell_type": "code",
   "execution_count": 80,
   "metadata": {},
   "outputs": [],
   "source": [
    "def preprocess(img):\n",
    "    img = cv2.resize(img,(28,28))\n",
    "    img = cv2.cvtColor(img,cv2.COLOR_BGR2GRAY)\n",
    "    img = cv2.equalizeHist(img)\n",
    "    img = img/255\n",
    "    return img"
   ]
  },
  {
   "cell_type": "code",
   "execution_count": 81,
   "metadata": {},
   "outputs": [],
   "source": [
    "x_train = np.array(list(map(preprocess,x_train)))\n",
    "x_test = np.array(list(map(preprocess,x_test)))\n",
    "x_valid = np.array(list(map(preprocess,x_valid)))"
   ]
  },
  {
   "cell_type": "markdown",
   "metadata": {},
   "source": [
    "Changing the dimensions for input."
   ]
  },
  {
   "cell_type": "code",
   "execution_count": 82,
   "metadata": {},
   "outputs": [],
   "source": [
    "x_train = x_train.reshape(18086,28,28,1)\n",
    "x_test = x_test.reshape(5652,28,28,1)\n",
    "x_valid = x_valid.reshape(4522,28,28,1)\n"
   ]
  },
  {
   "cell_type": "markdown",
   "metadata": {},
   "source": [
    "Performing augmentation."
   ]
  },
  {
   "cell_type": "code",
   "execution_count": 83,
   "metadata": {},
   "outputs": [],
   "source": [
    "imgen = ImageDataGenerator(width_shift_range=0.1,\n",
    "                          height_shift_range=0.1,\n",
    "                          zoom_range=0.2,\n",
    "                          shear_range=0.1,\n",
    "                          rotation_range=10)\n",
    "imgen.fit(x_train)"
   ]
  },
  {
   "cell_type": "code",
   "execution_count": 86,
   "metadata": {},
   "outputs": [],
   "source": [
    "batch = imgen.flow(x_train,y_train,batch_size=20)\n",
    "x_batch, y_batch = next(batch)"
   ]
  },
  {
   "cell_type": "markdown",
   "metadata": {},
   "source": [
    "One hot encoding."
   ]
  },
  {
   "cell_type": "code",
   "execution_count": 88,
   "metadata": {},
   "outputs": [],
   "source": [
    "y_train = to_categorical(y_train)\n",
    "y_test = to_categorical(y_test)\n",
    "y_valid = to_categorical(y_valid)"
   ]
  },
  {
   "cell_type": "markdown",
   "metadata": {},
   "source": [
    "Building the model."
   ]
  },
  {
   "cell_type": "code",
   "execution_count": 90,
   "metadata": {},
   "outputs": [],
   "source": [
    "def mymodel():\n",
    "    \n",
    "    model = Sequential()\n",
    "    \n",
    "    model.add(Convolution2D(68,(5,5),activation='relu',input_shape=(28,28,1)))\n",
    "    model.add(Convolution2D(60,(5,5),activation='relu'))\n",
    "    #model.add(Convolution2D(8,(3,3),activation='relu'))\n",
    "    model.add(MaxPooling2D(2,2))\n",
    "    \n",
    "    model.add(Convolution2D(35,(3,3),activation='relu'))\n",
    "    model.add(Convolution2D(35,(3,3),activation='relu'))\n",
    "    #model.add(Convolution2D(8,(3,3),activation='relu'))\n",
    "    model.add(MaxPooling2D(2,2))\n",
    "    model.add(Dropout(0.5))\n",
    "    \n",
    "    \n",
    "    model.add(Flatten())\n",
    "    model.add(Dense(400,activation='relu'))\n",
    "    model.add(Dropout(0.5))\n",
    "    model.add(Dense(53,activation='softmax'))\n",
    "    \n",
    "    model.compile(optimizer='adam',loss='categorical_crossentropy',metrics=['accuracy'])\n",
    "    return model\n",
    "    "
   ]
  },
  {
   "cell_type": "code",
   "execution_count": 91,
   "metadata": {},
   "outputs": [
    {
     "name": "stdout",
     "output_type": "stream",
     "text": [
      "Model: \"sequential_17\"\n",
      "_________________________________________________________________\n",
      "Layer (type)                 Output Shape              Param #   \n",
      "=================================================================\n",
      "conv2d_78 (Conv2D)           (None, 24, 24, 68)        1768      \n",
      "_________________________________________________________________\n",
      "conv2d_79 (Conv2D)           (None, 20, 20, 60)        102060    \n",
      "_________________________________________________________________\n",
      "max_pooling2d_34 (MaxPooling (None, 10, 10, 60)        0         \n",
      "_________________________________________________________________\n",
      "conv2d_80 (Conv2D)           (None, 8, 8, 35)          18935     \n",
      "_________________________________________________________________\n",
      "conv2d_81 (Conv2D)           (None, 6, 6, 35)          11060     \n",
      "_________________________________________________________________\n",
      "max_pooling2d_35 (MaxPooling (None, 3, 3, 35)          0         \n",
      "_________________________________________________________________\n",
      "dropout_31 (Dropout)         (None, 3, 3, 35)          0         \n",
      "_________________________________________________________________\n",
      "flatten_15 (Flatten)         (None, 315)               0         \n",
      "_________________________________________________________________\n",
      "dense_29 (Dense)             (None, 400)               126400    \n",
      "_________________________________________________________________\n",
      "dropout_32 (Dropout)         (None, 400)               0         \n",
      "_________________________________________________________________\n",
      "dense_30 (Dense)             (None, 53)                21253     \n",
      "=================================================================\n",
      "Total params: 281,476\n",
      "Trainable params: 281,476\n",
      "Non-trainable params: 0\n",
      "_________________________________________________________________\n",
      "None\n"
     ]
    }
   ],
   "source": [
    "modd = mymodel()\n",
    "print(modd.summary())"
   ]
  },
  {
   "cell_type": "markdown",
   "metadata": {},
   "source": [
    "Training the model."
   ]
  },
  {
   "cell_type": "code",
   "execution_count": 95,
   "metadata": {},
   "outputs": [
    {
     "name": "stdout",
     "output_type": "stream",
     "text": [
      "Epoch 1/10\n",
      "18086/18086 [==============================] - 388s 21ms/step - loss: 0.7319 - accuracy: 0.7546 - val_loss: 0.1713 - val_accuracy: 0.9436\n",
      "Epoch 2/10\n",
      "18086/18086 [==============================] - 383s 21ms/step - loss: 0.5355 - accuracy: 0.8225 - val_loss: 0.0841 - val_accuracy: 0.9752\n",
      "Epoch 3/10\n",
      "18086/18086 [==============================] - 385s 21ms/step - loss: 0.4732 - accuracy: 0.8456 - val_loss: 0.0874 - val_accuracy: 0.9728\n",
      "Epoch 4/10\n",
      "18086/18086 [==============================] - 384s 21ms/step - loss: 0.4425 - accuracy: 0.8581 - val_loss: 0.0789 - val_accuracy: 0.9783\n",
      "Epoch 5/10\n",
      "18086/18086 [==============================] - 384s 21ms/step - loss: 0.4227 - accuracy: 0.8662 - val_loss: 0.0735 - val_accuracy: 0.9777\n",
      "Epoch 6/10\n",
      "18086/18086 [==============================] - 385s 21ms/step - loss: 0.4126 - accuracy: 0.8716 - val_loss: 0.1264 - val_accuracy: 0.9648\n",
      "Epoch 7/10\n",
      "18086/18086 [==============================] - 387s 21ms/step - loss: 0.4017 - accuracy: 0.8762 - val_loss: 0.0551 - val_accuracy: 0.9834\n",
      "Epoch 8/10\n",
      "18086/18086 [==============================] - 393s 22ms/step - loss: 0.3954 - accuracy: 0.8793 - val_loss: 0.0728 - val_accuracy: 0.9766\n",
      "Epoch 9/10\n",
      "18086/18086 [==============================] - 397s 22ms/step - loss: 0.3940 - accuracy: 0.8812 - val_loss: 0.0358 - val_accuracy: 0.9898\n",
      "Epoch 10/10\n",
      "18086/18086 [==============================] - 400s 22ms/step - loss: 0.3897 - accuracy: 0.8836 - val_loss: 0.0605 - val_accuracy: 0.9810\n"
     ]
    }
   ],
   "source": [
    "history = modd.fit_generator(imgen.flow(x_train,y_train,batch_size=20),\n",
    "                             steps_per_epoch = len(x_train),\n",
    "                             epochs=10,\n",
    "                             validation_data = (x_valid,y_valid),\n",
    "                             shuffle=1)"
   ]
  },
  {
   "cell_type": "markdown",
   "metadata": {},
   "source": [
    "Evaluating the results."
   ]
  },
  {
   "cell_type": "code",
   "execution_count": 96,
   "metadata": {},
   "outputs": [
    {
     "name": "stdout",
     "output_type": "stream",
     "text": [
      "5652/5652 [==============================] - 2s 313us/step\n",
      "loss: 0.05757816390827119\n",
      "accuarcy: 0.9815994501113892\n"
     ]
    }
   ],
   "source": [
    "score = modd.evaluate(x_test,y_test)\n",
    "print(\"loss:\",score[0])\n",
    "print(\"accuarcy:\",score[1])"
   ]
  },
  {
   "cell_type": "markdown",
   "metadata": {},
   "source": [
    "Saving the model."
   ]
  },
  {
   "cell_type": "code",
   "execution_count": 98,
   "metadata": {},
   "outputs": [
    {
     "data": {
      "text/plain": [
       "-1"
      ]
     },
     "execution_count": 98,
     "metadata": {},
     "output_type": "execute_result"
    }
   ],
   "source": [
    "pick = open(\"ready_fr.p\",\"wb\")\n",
    "pickle.dump(modd,pick)\n",
    "pick.close()\n",
    "cv2.waitKey(0)"
   ]
  },
  {
   "cell_type": "markdown",
   "metadata": {},
   "source": [
    "Visualizing the results."
   ]
  },
  {
   "cell_type": "code",
   "execution_count": 99,
   "metadata": {},
   "outputs": [
    {
     "data": {
      "image/png": "[encoded data removed]",
      "text/plain": [
       "<Figure size 432x288 with 1 Axes>"
      ]
     },
     "metadata": {
      "needs_background": "light"
     },
     "output_type": "display_data"
    }
   ],
   "source": [
    "plt.figure(0)\n",
    "plt.plot(history.history['loss'],'r')\n",
    "plt.plot(history.history['val_loss'],'b')\n",
    "plt.xlabel('epochs')\n",
    "plt.ylabel('loss')\n",
    "plt.show()"
   ]
  },
  {
   "cell_type": "code",
   "execution_count": 101,
   "metadata": {},
   "outputs": [
    {
     "data": {
      "image/png": "[encoded data removed]",
      "text/plain": [
       "<Figure size 432x288 with 1 Axes>"
      ]
     },
     "metadata": {
      "needs_background": "light"
     },
     "output_type": "display_data"
    }
   ],
   "source": [
    "plt.figure(0)\n",
    "plt.plot(history.history['accuracy'],'r')\n",
    "plt.plot(history.history['val_accuracy'],'b')\n",
    "plt.xlabel('epochs')\n",
    "plt.ylabel('loss')\n",
    "plt.show()"
   ]
  },
  {
   "cell_type": "markdown",
   "metadata": {},
   "source": [
    "Testing the model."
   ]
  },
  {
   "cell_type": "code",
   "execution_count": 102,
   "metadata": {},
   "outputs": [],
   "source": [
    "y_pred=modd.predict(x_test)"
   ]
  },
  {
   "cell_type": "code",
   "execution_count": 115,
   "metadata": {},
   "outputs": [
    {
     "data": {
      "text/plain": [
       "<matplotlib.image.AxesImage at 0x28dee68b548>"
      ]
     },
     "execution_count": 115,
     "metadata": {},
     "output_type": "execute_result"
    },
    {
     "data": {
      "image/png": "[encoded data removed]",
      "text/plain": [
       "<Figure size 288x288 with 1 Axes>"
      ]
     },
     "metadata": {
      "needs_background": "light"
     },
     "output_type": "display_data"
    }
   ],
   "source": [
    "plt.matshow(x_test[5].reshape(28,28))"
   ]
  },
  {
   "cell_type": "code",
   "execution_count": 116,
   "metadata": {},
   "outputs": [
    {
     "data": {
      "text/plain": [
       "27"
      ]
     },
     "execution_count": 116,
     "metadata": {},
     "output_type": "execute_result"
    }
   ],
   "source": [
    "np.argmax(y_pred[5])"
   ]
  },
  {
   "cell_type": "markdown",
   "metadata": {},
   "source": [
    "Also you can try hyper parameter tuning for getting better results.\n",
    "Using a GPU will decreases the training time."
   ]
  }
 ],
 "metadata": {
  "kernelspec": {
   "display_name": "Python 3",
   "language": "python",
   "name": "python3"
  },
  "language_info": {
   "codemirror_mode": {
    "name": "ipython",
    "version": 3
   },
   "file_extension": ".py",
   "mimetype": "text/x-python",
   "name": "python",
   "nbconvert_exporter": "python",
   "pygments_lexer": "ipython3",
   "version": "3.7.6"
  }
 },
 "nbformat": 4,
 "nbformat_minor": 4
}
